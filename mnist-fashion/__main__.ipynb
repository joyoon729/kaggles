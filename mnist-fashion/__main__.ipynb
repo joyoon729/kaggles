{
  "nbformat": 4,
  "nbformat_minor": 0,
  "metadata": {
    "kernelspec": {
      "name": "python3",
      "display_name": "Python 3"
    },
    "language_info": {
      "codemirror_mode": {
        "name": "ipython",
        "version": 3
      },
      "file_extension": ".py",
      "mimetype": "text/x-python",
      "name": "python",
      "nbconvert_exporter": "python",
      "pygments_lexer": "ipython3",
      "version": "3.7.3"
    },
    "colab": {
      "name": "__main__.ipynb",
      "version": "0.3.2",
      "provenance": []
    },
    "accelerator": "GPU"
  },
  "cells": [
    {
      "cell_type": "markdown",
      "metadata": {
        "id": "a-rzO0OQD1ms",
        "colab_type": "text"
      },
      "source": [
        "# MNIST - fashion prediction"
      ]
    },
    {
      "cell_type": "code",
      "metadata": {
        "id": "GJcQzAEuD1mt",
        "colab_type": "code",
        "colab": {}
      },
      "source": [
        "import tensorflow as tf\n",
        "import numpy as np\n",
        "from tensorflow import keras\n",
        "\n",
        "import matplotlib.pyplot as plt"
      ],
      "execution_count": 0,
      "outputs": []
    },
    {
      "cell_type": "markdown",
      "metadata": {
        "id": "eeOBqowgD1mw",
        "colab_type": "text"
      },
      "source": [
        "load data  \n",
        "this dataset download at $HOME/.keras/datasets"
      ]
    },
    {
      "cell_type": "code",
      "metadata": {
        "id": "g_KG91iRD1mx",
        "colab_type": "code",
        "colab": {
          "base_uri": "https://localhost:8080/",
          "height": 161
        },
        "outputId": "d48400b7-1cc4-45d8-f516-619a7f0db249"
      },
      "source": [
        "fashion_mnist = keras.datasets.fashion_mnist\n",
        "(train_images, train_labels), (test_images, test_labels) = fashion_mnist.load_data()"
      ],
      "execution_count": 2,
      "outputs": [
        {
          "output_type": "stream",
          "text": [
            "Downloading data from https://storage.googleapis.com/tensorflow/tf-keras-datasets/train-labels-idx1-ubyte.gz\n",
            "32768/29515 [=================================] - 0s 0us/step\n",
            "Downloading data from https://storage.googleapis.com/tensorflow/tf-keras-datasets/train-images-idx3-ubyte.gz\n",
            "26427392/26421880 [==============================] - 0s 0us/step\n",
            "Downloading data from https://storage.googleapis.com/tensorflow/tf-keras-datasets/t10k-labels-idx1-ubyte.gz\n",
            "8192/5148 [===============================================] - 0s 0us/step\n",
            "Downloading data from https://storage.googleapis.com/tensorflow/tf-keras-datasets/t10k-images-idx3-ubyte.gz\n",
            "4423680/4422102 [==============================] - 0s 0us/step\n"
          ],
          "name": "stdout"
        }
      ]
    },
    {
      "cell_type": "code",
      "metadata": {
        "id": "XhNawYGkD1mz",
        "colab_type": "code",
        "colab": {}
      },
      "source": [
        "# copy data\n",
        "train_X = train_images.copy()\n",
        "train_y = train_labels.copy()\n",
        "test_X = test_images.copy()\n",
        "test_y = test_labels.copy()"
      ],
      "execution_count": 0,
      "outputs": []
    },
    {
      "cell_type": "markdown",
      "metadata": {
        "id": "7PZ3-3NLD1m1",
        "colab_type": "text"
      },
      "source": [
        "## <u>EDA</u>"
      ]
    },
    {
      "cell_type": "code",
      "metadata": {
        "id": "7B1aFIMhD1m1",
        "colab_type": "code",
        "colab": {
          "base_uri": "https://localhost:8080/",
          "height": 354
        },
        "outputId": "5bdeae99-ab77-4278-ef0b-d755c9c1946f"
      },
      "source": [
        "# 10개 카테고리 이미지 확인하기\n",
        "def display_sample_img(X, y):\n",
        "    category = { 0: 'T-shirt/top', 1: 'Trouser', 2: 'Pullover', 3: 'Dress', 4: 'Coat', \n",
        "                 5: 'Sandal', 6: 'Shirt', 7: 'Sneaker', 8: 'Bag', 9: 'Ankle boot'}\n",
        "    fig, axes = plt.subplots(nrows=2, ncols=5)\n",
        "    fig.set_size_inches(12,5)\n",
        "    fig.tight_layout()\n",
        "    num = 0\n",
        "    for idx in range(2):\n",
        "        for jdx in range(5):\n",
        "            for index, label in enumerate(y):\n",
        "                if label == num:\n",
        "                    axes[idx][jdx].imshow(X[index], cmap='gray')\n",
        "                    axes[idx][jdx].set_title(category[num])\n",
        "                    axes[idx][jdx].set_xticks([])\n",
        "                    axes[idx][jdx].set_yticks([])\n",
        "                    num += 1\n",
        "                    break\n",
        "\n",
        "display_sample_img(train_X, train_y)"
      ],
      "execution_count": 4,
      "outputs": [
        {
          "output_type": "display_data",
          "data": {
            "image/png": "[encoded data removed]",
            "text/plain": [
              "<Figure size 864x360 with 10 Axes>"
            ]
          },
          "metadata": {
            "tags": []
          }
        }
      ]
    },
    {
      "cell_type": "code",
      "metadata": {
        "id": "oHRD5xLoD1m5",
        "colab_type": "code",
        "colab": {
          "base_uri": "https://localhost:8080/",
          "height": 287
        },
        "outputId": "5703a641-616d-4361-d1c8-d81cf9789098"
      },
      "source": [
        "plt.imshow(train_X[0], cmap='gray')"
      ],
      "execution_count": 5,
      "outputs": [
        {
          "output_type": "execute_result",
          "data": {
            "text/plain": [
              "<matplotlib.image.AxesImage at 0x7f7832a4bef0>"
            ]
          },
          "metadata": {
            "tags": []
          },
          "execution_count": 5
        },
        {
          "output_type": "display_data",
          "data": {
            "image/png": "[encoded data removed]",
            "text/plain": [
              "<Figure size 432x288 with 1 Axes>"
            ]
          },
          "metadata": {
            "tags": []
          }
        }
      ]
    },
    {
      "cell_type": "markdown",
      "metadata": {
        "id": "FIQGQEZlD1m7",
        "colab_type": "text"
      },
      "source": [
        "## <u>preprocessing</u>"
      ]
    },
    {
      "cell_type": "code",
      "metadata": {
        "id": "r4zCyzkwD1m8",
        "colab_type": "code",
        "colab": {
          "base_uri": "https://localhost:8080/",
          "height": 354
        },
        "outputId": "83da3872-04d5-4c76-89b3-72b09ac2768d"
      },
      "source": [
        "# 이미지 전처리 함수\n",
        "def img_pipeline(img):\n",
        "    import cv2\n",
        "    img = cv2.resize(img, dsize=(0, 0), fx=2, fy=2, interpolation=cv2.INTER_LINEAR) # 확대\n",
        "    img = cv2.equalizeHist(img) # 평활화\n",
        "    ret,img = cv2.threshold(img, 0, 255, cv2.THRESH_BINARY+cv2.THRESH_OTSU) # 이진화\n",
        "    img = cv2.resize(img, dsize=(0, 0), fx=0.5, fy=0.5, interpolation=cv2.INTER_LINEAR) # 축소\n",
        "    return img\n",
        "\n",
        "# 적용\n",
        "train = []\n",
        "test = []\n",
        "for img in train_X:\n",
        "    train.append(img_pipeline(img))\n",
        "for img in test_X:\n",
        "    test.append(img_pipeline(img))    \n",
        "train_X, test_X = train.copy(), test.copy()\n",
        "\n",
        "# 확인\n",
        "display_sample_img(train_X, train_y)"
      ],
      "execution_count": 6,
      "outputs": [
        {
          "output_type": "display_data",
          "data": {
            "image/png": "[encoded data removed]",
            "text/plain": [
              "<Figure size 864x360 with 10 Axes>"
            ]
          },
          "metadata": {
            "tags": []
          }
        }
      ]
    },
    {
      "cell_type": "code",
      "metadata": {
        "id": "VWv6rMQuD1m-",
        "colab_type": "code",
        "colab": {
          "base_uri": "https://localhost:8080/",
          "height": 35
        },
        "outputId": "e41e2ebb-3dd8-4251-df14-e1af7a976773"
      },
      "source": [
        "np.array(train_X).shape"
      ],
      "execution_count": 7,
      "outputs": [
        {
          "output_type": "execute_result",
          "data": {
            "text/plain": [
              "(60000, 28, 28)"
            ]
          },
          "metadata": {
            "tags": []
          },
          "execution_count": 7
        }
      ]
    },
    {
      "cell_type": "code",
      "metadata": {
        "id": "nDcMAEqgD1nA",
        "colab_type": "code",
        "colab": {}
      },
      "source": [
        "def ohe(ndarr):\n",
        "    res = []\n",
        "    for idx in ndarr:\n",
        "        ohe_arr = [0]*10\n",
        "        ohe_arr[idx[0]] = 1\n",
        "        res.append(ohe_arr)\n",
        "    return np.array(res)\n",
        "\n",
        "# one-hot-encoding\n",
        "train_y = ohe(train_y.reshape(-1,1))\n",
        "test_y = ohe(test_y.reshape(-1,1))\n",
        "\n",
        "# reshape (?,56*56)\n",
        "train_X = np.array(train_X)\n",
        "test_X = np.array(test_X)\n",
        "train_X = train_X.reshape(len(train_X),-1)\n",
        "test_X = test_X.reshape(len(test_X),-1)\n",
        "\n",
        "# normalization\n",
        "# from sklearn.preprocessing import StandardScaler\n",
        "# ss = StandardScaler()\n",
        "# train_X = ss.fit_transform(train_X)\n",
        "# test_X = ss.fit_transform(test_X)\n",
        "train_X = train_X/255\n",
        "test_X = test_X/255"
      ],
      "execution_count": 0,
      "outputs": []
    },
    {
      "cell_type": "code",
      "metadata": {
        "id": "nnEJ-9vjD1nR",
        "colab_type": "code",
        "colab": {
          "base_uri": "https://localhost:8080/",
          "height": 35
        },
        "outputId": "b7a5f189-eec0-42fe-e350-78f2ba7a0d66"
      },
      "source": [
        "test_y.shape"
      ],
      "execution_count": 9,
      "outputs": [
        {
          "output_type": "execute_result",
          "data": {
            "text/plain": [
              "(10000, 10)"
            ]
          },
          "metadata": {
            "tags": []
          },
          "execution_count": 9
        }
      ]
    },
    {
      "cell_type": "markdown",
      "metadata": {
        "id": "dlcOrzD2D1nU",
        "colab_type": "text"
      },
      "source": [
        "## <u>modelling</u>"
      ]
    },
    {
      "cell_type": "code",
      "metadata": {
        "id": "fYV4BhBAEJRI",
        "colab_type": "code",
        "colab": {}
      },
      "source": [
        "fashion_classes = 10\n",
        "learning_rate = 0.0005\n",
        "width = 100\n",
        "training_epochs = 200\n",
        "batch_size = 600"
      ],
      "execution_count": 0,
      "outputs": []
    },
    {
      "cell_type": "code",
      "metadata": {
        "id": "ID5SfQl1D1nV",
        "colab_type": "code",
        "colab": {}
      },
      "source": [
        "minimum_cost = {'cost':1.0, 'accuracy':0.0, 'learning_rate':learning_rate, 'training_epochs':training_epochs, 'width':width, 'batch_size':batch_size}"
      ],
      "execution_count": 0,
      "outputs": []
    },
    {
      "cell_type": "code",
      "metadata": {
        "id": "peo_yk9OD1nX",
        "colab_type": "code",
        "colab": {}
      },
      "source": [
        "# tf.reset_default_graph() #그래프에 있는 모든 텐서를 초기화\n",
        "# x=tf.placeholder(tf.float32, [None,28*28])\n",
        "# y=tf.placeholder(tf.float32, [None,10])\n",
        "\n",
        "# keep_prob=tf.placeholder(tf.float32)\n",
        "\n",
        "# w1=tf.get_variable(\"w1\", shape=[28*28,width],initializer=tf.contrib.layers.xavier_initializer())\n",
        "# b1=tf.Variable(tf.random_normal([width]))\n",
        "# L1=tf.nn.relu(tf.matmul(x,w1)+b1)\n",
        "# L1=tf.nn.dropout(L1, keep_prob=keep_prob)\n",
        "\n",
        "# w2=tf.get_variable(\"w2\", shape=[width,width],initializer=tf.contrib.layers.xavier_initializer())\n",
        "# b2=tf.Variable(tf.random_normal([width]))\n",
        "# L2=tf.nn.relu(tf.matmul(L1,w2)+b2)\n",
        "# L2=tf.nn.dropout(L2, keep_prob=keep_prob)\n",
        "\n",
        "\n",
        "# w3=tf.get_variable(\"w3\", shape=[width,width],initializer=tf.contrib.layers.xavier_initializer())\n",
        "# b3=tf.Variable(tf.random_normal([width]))\n",
        "# L3=tf.nn.relu(tf.matmul(L2,w3)+b3)\n",
        "# L3=tf.nn.dropout(L3, keep_prob=keep_prob)\n",
        "\n",
        "\n",
        "# w4=tf.get_variable(\"w4\", shape=[width,width],initializer=tf.contrib.layers.xavier_initializer())\n",
        "# b4=tf.Variable(tf.random_normal([width]))\n",
        "# L4=tf.nn.relu(tf.matmul(L3,w4)+b4)\n",
        "# L4=tf.nn.dropout(L4, keep_prob=keep_prob)\n",
        "\n",
        "\n",
        "# w5=tf.get_variable(\"w5\", shape=[width,10],initializer=tf.contrib.layers.xavier_initializer())\n",
        "# b5=tf.Variable(tf.random_normal([10]))\n",
        "# hf=tf.matmul(L4,w5)+b5\n",
        "\n",
        "# cost=tf.reduce_mean(tf.nn.softmax_cross_entropy_with_logits\n",
        "#                (logits=hf, labels=y))\n",
        "# train=tf.train.AdamOptimizer(learning_rate=learning_rate).minimize(cost)\n",
        "\n",
        "# is_correct=tf.equal(tf.argmax(hf,1), tf.argmax(y,1))\n",
        "# accuracy=tf.reduce_mean(tf.cast(is_correct, tf.float32))\n",
        "\n",
        "\n",
        "tf.reset_default_graph() #그래프에 있는 모든 텐서를 초기화\n",
        "\n",
        "keep_prob=tf.placeholder(tf.float32)\n",
        "\n",
        "x=tf.placeholder(tf.float32, [None, 28*28])\n",
        "ximg=tf.reshape(x, [-1, 28, 28, 1])#img 28*28*1(black/white)\n",
        "y=tf.placeholder(tf.float32, [None, 10])\n",
        "\n",
        "w1=tf.Variable(tf.random_normal([3,3,1,32]))\n",
        "L1=tf.nn.conv2d(ximg, w1, strides=[1,1,1,1],padding='SAME')\n",
        "L1=tf.nn.relu(L1)\n",
        "L1=tf.nn.max_pool(L1, ksize=[1,2,2,1], strides=[1,2,2,1], padding='SAME')\n",
        "L1=tf.nn.dropout(L1, keep_prob=keep_prob)\n",
        "#L1 이미지 shape => (?, 28, 28, 1)\n",
        "#conv => (?,28,28,32)\n",
        "#pooling -> (?,14,14,32)\n",
        "\n",
        "w2=tf.Variable(tf.random_normal([3,3,32,64]))\n",
        "L2=tf.nn.conv2d(L1, w2, strides=[1,1,1,1],padding='SAME')\n",
        "L2=tf.nn.relu(L2)\n",
        "L2=tf.nn.max_pool(L2, ksize=[1,2,2,1], strides=[1,2,2,1], padding='SAME')\n",
        "L2=tf.nn.dropout(L2, keep_prob=keep_prob)\n",
        "#conv2d (?,14,14,64)\n",
        "#relu (?,14,14,64)\n",
        "#max_pool (?,7,7,64)\n",
        "L2_flat=tf.reshape(L2, [-1, 7*7*64])\n",
        "#reshape => (?, 7*7*64)\n",
        "\n",
        "\n",
        "w3=tf.get_variable(\"w3\", shape=[7*7*64, 10],initializer=tf.contrib.layers.xavier_initializer())\n",
        "b=tf.Variable(tf.random_normal([10]))\n",
        "logits=tf.matmul(L2_flat, w3)+b\n",
        "cost=tf.reduce_mean(tf.nn.softmax_cross_entropy_with_logits(logits=logits, labels=y))\n",
        "train=tf.train.AdamOptimizer(learning_rate=learning_rate).minimize(cost)\n",
        "\n",
        "is_correct=tf.equal(tf.argmax(logits,1), tf.argmax(y,1))\n",
        "accuracy=tf.reduce_mean(tf.cast(is_correct, tf.float32))\n",
        "\n"
      ],
      "execution_count": 0,
      "outputs": []
    },
    {
      "cell_type": "code",
      "metadata": {
        "scrolled": true,
        "id": "QFZW84abD1na",
        "colab_type": "code",
        "colab": {
          "base_uri": "https://localhost:8080/",
          "height": 1000
        },
        "outputId": "0a4c11a7-2bc0-49cf-cb5a-f227af05b13c"
      },
      "source": [
        "init = tf.global_variables_initializer()\n",
        "\n",
        "with tf.Session() as sess:\n",
        "    sess.run(init)\n",
        "    for epoch in range(training_epochs):\n",
        "        # 1에폭당 셔플 해야함!!\n",
        "        shuffled_index = np.arange(train_X.shape[0])\n",
        "        np.random.shuffle(shuffled_index)\n",
        "        train_X = train_X[shuffled_index]\n",
        "        train_y = train_y[shuffled_index]\n",
        "        \n",
        "        avg_cost = 0\n",
        "        idx = 0\n",
        "        total_batch = int(train_X.shape[0] / batch_size)\n",
        "        for _ in range(total_batch):\n",
        "            batch_xs = train_X[idx:idx+batch_size]\n",
        "            batch_ys = train_y[idx:idx+batch_size]\n",
        "            myfeed={x:batch_xs, y:batch_ys, keep_prob:1}\n",
        "            cv, _ = sess.run([cost, train], feed_dict=myfeed)\n",
        "            avg_cost += cv/total_batch\n",
        "            idx += batch_size\n",
        "            \n",
        "        print('Epoch: ', '%4d'%(epoch+1),\n",
        "              'cost: ', '{:.9f}'.format(avg_cost))\n",
        "    \n",
        "    print('learning finished')\n",
        "    acc = sess.run(accuracy, feed_dict={x:test_X, y:test_y, keep_prob:1})\n",
        "    print('accuracy: ', acc)\n",
        "    if minimum_cost['cost'] > avg_cost:\n",
        "        minimum_cost['cost'] = avg_cost\n",
        "        minimum_cost['accuracy'] = acc\n",
        "        minimum_cost['learning_rate'] = learning_rate\n",
        "        minimum_cost['training_epochs'] = training_epochs\n",
        "        minimum_cost['batch_size'] = batch_size\n",
        "\n",
        "    import random\n",
        "    r = random.randint(0, len(test_images)-1)\n",
        "    print('Label: ', sess.run(tf.argmax(test_y[r:r+1], 1)))\n",
        "    print('Prediction: ', sess.run(tf.argmax(logits,1), feed_dict={x:test_X[r:r+1], keep_prob:1}))\n",
        "    plt.imshow(test_images[r:r+1].reshape(28,28))\n",
        "    plt.show()"
      ],
      "execution_count": 29,
      "outputs": [
        {
          "output_type": "stream",
          "text": [
            "Epoch:     1 cost:  4.664133213\n",
            "Epoch:     2 cost:  1.645321995\n",
            "Epoch:     3 cost:  1.291101145\n",
            "Epoch:     4 cost:  1.089089024\n",
            "Epoch:     5 cost:  0.976082894\n",
            "Epoch:     6 cost:  0.851046243\n",
            "Epoch:     7 cost:  0.793494525\n",
            "Epoch:     8 cost:  0.739887729\n",
            "Epoch:     9 cost:  0.656905746\n",
            "Epoch:    10 cost:  0.605691685\n",
            "Epoch:    11 cost:  0.596467958\n",
            "Epoch:    12 cost:  0.578076037\n",
            "Epoch:    13 cost:  0.514552805\n",
            "Epoch:    14 cost:  0.488021231\n",
            "Epoch:    15 cost:  0.468882798\n",
            "Epoch:    16 cost:  0.439953842\n",
            "Epoch:    17 cost:  0.426546032\n",
            "Epoch:    18 cost:  0.425357359\n",
            "Epoch:    19 cost:  0.396024671\n",
            "Epoch:    20 cost:  0.368103171\n",
            "Epoch:    21 cost:  0.369286629\n",
            "Epoch:    22 cost:  0.343005203\n",
            "Epoch:    23 cost:  0.328389439\n",
            "Epoch:    24 cost:  0.310652127\n",
            "Epoch:    25 cost:  0.326570792\n",
            "Epoch:    26 cost:  0.315503563\n",
            "Epoch:    27 cost:  0.291339516\n",
            "Epoch:    28 cost:  0.287851771\n",
            "Epoch:    29 cost:  0.283360846\n",
            "Epoch:    30 cost:  0.298853697\n",
            "Epoch:    31 cost:  0.264625223\n",
            "Epoch:    32 cost:  0.254610234\n",
            "Epoch:    33 cost:  0.253320905\n",
            "Epoch:    34 cost:  0.238760464\n",
            "Epoch:    35 cost:  0.228250175\n",
            "Epoch:    36 cost:  0.229588593\n",
            "Epoch:    37 cost:  0.228722534\n",
            "Epoch:    38 cost:  0.213175071\n",
            "Epoch:    39 cost:  0.203682011\n",
            "Epoch:    40 cost:  0.211545027\n",
            "Epoch:    41 cost:  0.200642558\n",
            "Epoch:    42 cost:  0.210611883\n",
            "Epoch:    43 cost:  0.195657992\n",
            "Epoch:    44 cost:  0.176670666\n",
            "Epoch:    45 cost:  0.184121399\n",
            "Epoch:    46 cost:  0.213585405\n",
            "Epoch:    47 cost:  0.186495998\n",
            "Epoch:    48 cost:  0.174709430\n",
            "Epoch:    49 cost:  0.171233339\n",
            "Epoch:    50 cost:  0.160287514\n",
            "Epoch:    51 cost:  0.155102076\n",
            "Epoch:    52 cost:  0.175798013\n",
            "Epoch:    53 cost:  0.150452224\n",
            "Epoch:    54 cost:  0.163120268\n",
            "Epoch:    55 cost:  0.167471982\n",
            "Epoch:    56 cost:  0.150408485\n",
            "Epoch:    57 cost:  0.143993579\n",
            "Epoch:    58 cost:  0.149760572\n",
            "Epoch:    59 cost:  0.140598212\n",
            "Epoch:    60 cost:  0.145488983\n",
            "Epoch:    61 cost:  0.134022486\n",
            "Epoch:    62 cost:  0.135076035\n",
            "Epoch:    63 cost:  0.136132669\n",
            "Epoch:    64 cost:  0.135835170\n",
            "Epoch:    65 cost:  0.143845089\n",
            "Epoch:    66 cost:  0.137177341\n",
            "Epoch:    67 cost:  0.135780705\n",
            "Epoch:    68 cost:  0.125519379\n",
            "Epoch:    69 cost:  0.140025848\n",
            "Epoch:    70 cost:  0.144224706\n",
            "Epoch:    71 cost:  0.115183450\n",
            "Epoch:    72 cost:  0.119419042\n",
            "Epoch:    73 cost:  0.125042928\n",
            "Epoch:    74 cost:  0.117121500\n",
            "Epoch:    75 cost:  0.112532777\n",
            "Epoch:    76 cost:  0.113871470\n",
            "Epoch:    77 cost:  0.116615002\n",
            "Epoch:    78 cost:  0.110867711\n",
            "Epoch:    79 cost:  0.107948613\n",
            "Epoch:    80 cost:  0.106179609\n",
            "Epoch:    81 cost:  0.099259522\n",
            "Epoch:    82 cost:  0.107181507\n",
            "Epoch:    83 cost:  0.098558265\n",
            "Epoch:    84 cost:  0.117868870\n",
            "Epoch:    85 cost:  0.102933264\n",
            "Epoch:    86 cost:  0.091616951\n",
            "Epoch:    87 cost:  0.100523483\n",
            "Epoch:    88 cost:  0.091659144\n",
            "Epoch:    89 cost:  0.099742056\n",
            "Epoch:    90 cost:  0.096131521\n",
            "Epoch:    91 cost:  0.097756343\n",
            "Epoch:    92 cost:  0.115312515\n",
            "Epoch:    93 cost:  0.095497390\n",
            "Epoch:    94 cost:  0.091468780\n",
            "Epoch:    95 cost:  0.089923536\n",
            "Epoch:    96 cost:  0.079525991\n",
            "Epoch:    97 cost:  0.080992859\n",
            "Epoch:    98 cost:  0.091144716\n",
            "Epoch:    99 cost:  0.085908677\n",
            "Epoch:   100 cost:  0.089847993\n",
            "Epoch:   101 cost:  0.079041083\n",
            "Epoch:   102 cost:  0.077722069\n",
            "Epoch:   103 cost:  0.083446429\n",
            "Epoch:   104 cost:  0.082441085\n",
            "Epoch:   105 cost:  0.076762876\n",
            "Epoch:   106 cost:  0.084389934\n",
            "Epoch:   107 cost:  0.077507629\n",
            "Epoch:   108 cost:  0.076110382\n",
            "Epoch:   109 cost:  0.069727424\n",
            "Epoch:   110 cost:  0.070137532\n",
            "Epoch:   111 cost:  0.072606215\n",
            "Epoch:   112 cost:  0.068996670\n",
            "Epoch:   113 cost:  0.069678481\n",
            "Epoch:   114 cost:  0.064596694\n",
            "Epoch:   115 cost:  0.067186226\n",
            "Epoch:   116 cost:  0.068576818\n",
            "Epoch:   117 cost:  0.079527088\n",
            "Epoch:   118 cost:  0.089507859\n",
            "Epoch:   119 cost:  0.076390499\n",
            "Epoch:   120 cost:  0.070805745\n",
            "Epoch:   121 cost:  0.071694438\n",
            "Epoch:   122 cost:  0.060777575\n",
            "Epoch:   123 cost:  0.065290268\n",
            "Epoch:   124 cost:  0.061844976\n",
            "Epoch:   125 cost:  0.064659404\n",
            "Epoch:   126 cost:  0.056379825\n",
            "Epoch:   127 cost:  0.057532447\n",
            "Epoch:   128 cost:  0.058649398\n",
            "Epoch:   129 cost:  0.060768184\n",
            "Epoch:   130 cost:  0.055374352\n",
            "Epoch:   131 cost:  0.061827678\n",
            "Epoch:   132 cost:  0.054506204\n",
            "Epoch:   133 cost:  0.058110794\n",
            "Epoch:   134 cost:  0.048286504\n",
            "Epoch:   135 cost:  0.057308222\n",
            "Epoch:   136 cost:  0.053754829\n",
            "Epoch:   137 cost:  0.047007387\n",
            "Epoch:   138 cost:  0.048066753\n",
            "Epoch:   139 cost:  0.046526099\n",
            "Epoch:   140 cost:  0.051524360\n",
            "Epoch:   141 cost:  0.048087152\n",
            "Epoch:   142 cost:  0.048545804\n",
            "Epoch:   143 cost:  0.048340600\n",
            "Epoch:   144 cost:  0.067937806\n",
            "Epoch:   145 cost:  0.064006112\n",
            "Epoch:   146 cost:  0.050525779\n",
            "Epoch:   147 cost:  0.053333193\n",
            "Epoch:   148 cost:  0.044243283\n",
            "Epoch:   149 cost:  0.044211352\n",
            "Epoch:   150 cost:  0.054383815\n",
            "Epoch:   151 cost:  0.044067089\n",
            "Epoch:   152 cost:  0.049480778\n",
            "Epoch:   153 cost:  0.041469962\n",
            "Epoch:   154 cost:  0.036842537\n",
            "Epoch:   155 cost:  0.042475524\n",
            "Epoch:   156 cost:  0.037487150\n",
            "Epoch:   157 cost:  0.042598463\n",
            "Epoch:   158 cost:  0.036056726\n",
            "Epoch:   159 cost:  0.039848027\n",
            "Epoch:   160 cost:  0.035778207\n",
            "Epoch:   161 cost:  0.040378212\n",
            "Epoch:   162 cost:  0.038672901\n",
            "Epoch:   163 cost:  0.041599985\n",
            "Epoch:   164 cost:  0.043725825\n",
            "Epoch:   165 cost:  0.035368519\n",
            "Epoch:   166 cost:  0.032996036\n",
            "Epoch:   167 cost:  0.032892048\n",
            "Epoch:   168 cost:  0.029477862\n",
            "Epoch:   169 cost:  0.028600103\n",
            "Epoch:   170 cost:  0.032175819\n",
            "Epoch:   171 cost:  0.032267844\n",
            "Epoch:   172 cost:  0.033246423\n",
            "Epoch:   173 cost:  0.029229247\n",
            "Epoch:   174 cost:  0.027028929\n",
            "Epoch:   175 cost:  0.027717332\n",
            "Epoch:   176 cost:  0.033409532\n",
            "Epoch:   177 cost:  0.028239152\n",
            "Epoch:   178 cost:  0.025529145\n",
            "Epoch:   179 cost:  0.026456350\n",
            "Epoch:   180 cost:  0.025367476\n",
            "Epoch:   181 cost:  0.025895505\n",
            "Epoch:   182 cost:  0.031089205\n",
            "Epoch:   183 cost:  0.051063873\n",
            "Epoch:   184 cost:  0.056866899\n",
            "Epoch:   185 cost:  0.027901446\n",
            "Epoch:   186 cost:  0.023839421\n",
            "Epoch:   187 cost:  0.024823614\n",
            "Epoch:   188 cost:  0.025996259\n",
            "Epoch:   189 cost:  0.026425969\n",
            "Epoch:   190 cost:  0.023013971\n",
            "Epoch:   191 cost:  0.020152478\n",
            "Epoch:   192 cost:  0.020755386\n",
            "Epoch:   193 cost:  0.018985325\n",
            "Epoch:   194 cost:  0.024281019\n",
            "Epoch:   195 cost:  0.020328515\n",
            "Epoch:   196 cost:  0.020255375\n",
            "Epoch:   197 cost:  0.021686319\n",
            "Epoch:   198 cost:  0.025109828\n",
            "Epoch:   199 cost:  0.022252925\n",
            "Epoch:   200 cost:  0.016637253\n",
            "learning finished\n",
            "accuracy:  0.8608\n",
            "Label:  [7]\n",
            "Prediction:  [7]\n"
          ],
          "name": "stdout"
        },
        {
          "output_type": "display_data",
          "data": {
            "image/png": "[encoded data removed]",
            "text/plain": [
              "<Figure size 432x288 with 1 Axes>"
            ]
          },
          "metadata": {
            "tags": []
          }
        }
      ]
    },
    {
      "cell_type": "code",
      "metadata": {
        "id": "bSBkrA2DD1nc",
        "colab_type": "code",
        "colab": {
          "base_uri": "https://localhost:8080/",
          "height": 125
        },
        "outputId": "277aca12-3aee-48d1-d047-9bbdc62f5198"
      },
      "source": [
        "minimum_cost"
      ],
      "execution_count": 30,
      "outputs": [
        {
          "output_type": "execute_result",
          "data": {
            "text/plain": [
              "{'accuracy': 0.8608,\n",
              " 'batch_size': 600,\n",
              " 'cost': 0.016637253416702143,\n",
              " 'learning_rate': 0.0005,\n",
              " 'training_epochs': 200,\n",
              " 'width': 100}"
            ]
          },
          "metadata": {
            "tags": []
          },
          "execution_count": 30
        }
      ]
    },
    {
      "cell_type": "code",
      "metadata": {
        "id": "AdR2XYWeD1ne",
        "colab_type": "code",
        "colab": {}
      },
      "source": [
        ""
      ],
      "execution_count": 0,
      "outputs": []
    }
  ]
}